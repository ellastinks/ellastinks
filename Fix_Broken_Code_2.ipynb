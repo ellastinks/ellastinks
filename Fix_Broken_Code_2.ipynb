{
  "nbformat": 4,
  "nbformat_minor": 0,
  "metadata": {
    "colab": {
      "provenance": [],
      "include_colab_link": true
    },
    "kernelspec": {
      "name": "python3",
      "display_name": "Python 3"
    },
    "language_info": {
      "name": "python"
    }
  },
  "cells": [
    {
      "cell_type": "markdown",
      "metadata": {
        "id": "view-in-github",
        "colab_type": "text"
      },
      "source": [
        "<a href=\"https://colab.research.google.com/github/ellastinks/ellastinks/blob/main/Fix_Broken_Code_2.ipynb\" target=\"_parent\"><img src=\"https://colab.research.google.com/assets/colab-badge.svg\" alt=\"Open In Colab\"/></a>"
      ]
    },
    {
      "cell_type": "markdown",
      "source": [
        "# FIX BROKEN CODE EX -2"
      ],
      "metadata": {
        "id": "08sjzD0crTpa"
      }
    },
    {
      "cell_type": "markdown",
      "source": [
        "What's wrong with this code ? :  Missing brackets on line 1, indentation error and"
      ],
      "metadata": {
        "id": "2m3U8JXZrtuh"
      }
    },
    {
      "cell_type": "code",
      "execution_count": 60,
      "metadata": {
        "id": "iVaVnQ9Jp3jO",
        "outputId": "2e73ccd7-0bb9-403d-8fcb-6ceeb12411bd",
        "colab": {
          "base_uri": "https://localhost:8080/"
        }
      },
      "outputs": [
        {
          "output_type": "stream",
          "name": "stdout",
          "text": [
            "The area is: 15\n"
          ]
        }
      ],
      "source": [
        "def calculate_area(width,height):\n",
        "  area = width * height;\n",
        "  return(\"The area is: \" + str(area))\n",
        "\n",
        "print(calculate_area(5,3))\n",
        "# should output 15"
      ]
    },
    {
      "cell_type": "markdown",
      "source": [
        "What's wrong with this code ? : Nothing"
      ],
      "metadata": {
        "id": "6hVQsnmzr3i8"
      }
    },
    {
      "cell_type": "code",
      "source": [
        "def factorial(n):\n",
        "    if n == 1:\n",
        "        return 1\n",
        "    else:\n",
        "        return n * factorial(n - 1)\n",
        "        print(\"Calculating factorial...\")\n",
        "\n",
        "print(factorial(5))\n",
        "# should output 120"
      ],
      "metadata": {
        "id": "lkxA7zApr4c0",
        "outputId": "0b4114cd-14a2-4ec5-daa1-0849f78aef8d",
        "colab": {
          "base_uri": "https://localhost:8080/"
        }
      },
      "execution_count": 9,
      "outputs": [
        {
          "output_type": "stream",
          "name": "stdout",
          "text": [
            "120\n"
          ]
        }
      ]
    },
    {
      "cell_type": "markdown",
      "source": [
        "What's wrong with this code ? : Wrong brackets on line 3, should have used [ ] instead of ( )"
      ],
      "metadata": {
        "id": "7vL1tBsqsJPn"
      }
    },
    {
      "cell_type": "code",
      "source": [
        "items = [\"apple\", \"banana\", \"cherry\"]\n",
        "for i in range(len(items)):\n",
        "  print(items[i])\n",
        "# should output :\n",
        "  # apple\n",
        "  # banana\n",
        "  # cherry"
      ],
      "metadata": {
        "id": "3GejQUaAsOtV",
        "outputId": "764bf670-09f4-4b2f-f703-984a6c1cba5a",
        "colab": {
          "base_uri": "https://localhost:8080/"
        }
      },
      "execution_count": 13,
      "outputs": [
        {
          "output_type": "stream",
          "name": "stdout",
          "text": [
            "apple\n",
            "banana\n",
            "cherry\n"
          ]
        }
      ]
    },
    {
      "cell_type": "markdown",
      "source": [
        "What's wrong with this code ? :"
      ],
      "metadata": {
        "id": "2hp9rlqjst6F"
      }
    },
    {
      "cell_type": "code",
      "source": [
        "name = \"Alice\"\n",
        "age = 25\n",
        "print(\"Name: \" + name, \"Age: \" + str(age))\n",
        "# should output : Name: Alice, Age: 25"
      ],
      "metadata": {
        "id": "CBSFawIksvpu",
        "outputId": "2d288439-b99c-432c-c4cd-3a9e18015f19",
        "colab": {
          "base_uri": "https://localhost:8080/"
        }
      },
      "execution_count": 50,
      "outputs": [
        {
          "output_type": "stream",
          "name": "stdout",
          "text": [
            "Name: Alice Age: 25\n"
          ]
        }
      ]
    },
    {
      "cell_type": "markdown",
      "source": [
        "What's wrong with this code ? : Multiple errors - spelling mistakes, syntax errors, misued brackets etc"
      ],
      "metadata": {
        "id": "1cS9jPX7s5tV"
      }
    },
    {
      "cell_type": "code",
      "source": [
        "\n",
        "# This function has multiple issues but is easier to debug.\n",
        "def process_data(data_list):\n",
        "    result = []\n",
        "    for i in range(len(data_list)):\n",
        "        if data_list[i] / 2 == 0:\n",
        "            result.append(\"Even: \" + int(data_list[i+1]))\n",
        "        else:\n",
        "            result.append(\"Odd: \" + str(data_list[i-1]))\n",
        "        return result\n",
        "\n",
        "data = [1, 2, 3, 4, 5]\n",
        "print(process_data(data))\n",
        "\n",
        "# Expected Output (if errors are fixed):\n",
        "# ['Odd: 1', 'Even: 2', 'Odd: 3', 'Even: 4', 'Odd: 5']\n"
      ],
      "metadata": {
        "id": "1euekMk_s-Nj",
        "outputId": "ca0d97f6-322c-425f-9107-008d92f35efc",
        "colab": {
          "base_uri": "https://localhost:8080/"
        }
      },
      "execution_count": 26,
      "outputs": [
        {
          "output_type": "stream",
          "name": "stdout",
          "text": [
            "['Odd: 5']\n"
          ]
        }
      ]
    },
    {
      "cell_type": "markdown",
      "source": [
        "What's wrong with this code ? : Add speechmarks in line 5 and return message"
      ],
      "metadata": {
        "id": "Mp4Tja09xZBY"
      }
    },
    {
      "cell_type": "code",
      "source": [
        "def greet(name):\n",
        "    message = \"Hello, \" + name\n",
        "    return message\n",
        "\n",
        "print(greet(\"John\"))\n",
        "# should output : Hello, John"
      ],
      "metadata": {
        "id": "QDa1Zac_xdVb",
        "outputId": "0194af75-7f02-4794-c415-4e3666f25b15",
        "colab": {
          "base_uri": "https://localhost:8080/"
        }
      },
      "execution_count": 40,
      "outputs": [
        {
          "output_type": "stream",
          "name": "stdout",
          "text": [
            "Hello, John\n"
          ]
        }
      ]
    },
    {
      "cell_type": "markdown",
      "source": [
        "What's wrong with this code ? : Needed to convert float to string, misued speech marks, missing price"
      ],
      "metadata": {
        "id": "cXqL2Fb6yMxk"
      }
    },
    {
      "cell_type": "code",
      "source": [
        "# This function processes customer orders and calculates discounts\n",
        "def process_orders(orders):\n",
        "    total_price = 0\n",
        "    for order in orders:\n",
        "        if \"price\" in order and \"quantity\" in order:\n",
        "            total_price += int(order[\"price\"] * order[\"quantity\"])\n",
        "        else:\n",
        "            print(\"Invalid order: \" + str(order))\n",
        "\n",
        "    discount = 0.1 if total_price > 100 else 0.05\n",
        "    final_price = total_price - total_price * discount\n",
        "    return \"Total after discount: \" + str(final_price)\n",
        "\n",
        "orders = [\n",
        "    {\"item\": \"Laptop\", \"price\": 900, \"quantity\": 1},\n",
        "    {\"item\": \"Mouse\", \"price\": 25, \"quantity\": 2},\n",
        "    {\"item\": \"Keyboard\", \"price\": 50, \"quantity\": 1},\n",
        "    {\"item\": \"Monitor\", \"price\": 30 , \"quantity\": 1} ]\n",
        "\n",
        "print(process_orders(orders))\n",
        "\n",
        "# Expected Output (if errors are fixed):\n",
        "# 'Total after discount: 927.0'\n"
      ],
      "metadata": {
        "id": "xo_k2aiWyPD_",
        "outputId": "ba06f11d-9155-4d66-8992-c6c1dc4bb651",
        "colab": {
          "base_uri": "https://localhost:8080/"
        }
      },
      "execution_count": 49,
      "outputs": [
        {
          "output_type": "stream",
          "name": "stdout",
          "text": [
            "Total after discount: 927.0\n"
          ]
        }
      ]
    }
  ]
}