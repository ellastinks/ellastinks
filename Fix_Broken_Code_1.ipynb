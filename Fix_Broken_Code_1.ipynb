{
  "nbformat": 4,
  "nbformat_minor": 0,
  "metadata": {
    "colab": {
      "provenance": [],
      "include_colab_link": true
    },
    "kernelspec": {
      "name": "python3",
      "display_name": "Python 3"
    },
    "language_info": {
      "name": "python"
    }
  },
  "cells": [
    {
      "cell_type": "markdown",
      "metadata": {
        "id": "view-in-github",
        "colab_type": "text"
      },
      "source": [
        "<a href=\"https://colab.research.google.com/github/ellastinks/ellastinks/blob/main/Fix_Broken_Code_1.ipynb\" target=\"_parent\"><img src=\"https://colab.research.google.com/assets/colab-badge.svg\" alt=\"Open In Colab\"/></a>"
      ]
    },
    {
      "cell_type": "markdown",
      "source": [
        "# FIX BROKEN CODE 1"
      ],
      "metadata": {
        "id": "PC4Ip85Jr7yA"
      }
    },
    {
      "cell_type": "code",
      "execution_count": null,
      "metadata": {
        "id": "D7ZYNuM0q67R"
      },
      "outputs": [],
      "source": [
        "print(\"Hello, world!\")"
      ]
    },
    {
      "cell_type": "markdown",
      "source": [
        "What was the error ?\n",
        "Answer : Missing speech marks"
      ],
      "metadata": {
        "id": "XKLet5FEtkXQ"
      }
    },
    {
      "cell_type": "code",
      "source": [
        "my_number = 10\n",
        "print(my_number)"
      ],
      "metadata": {
        "id": "M-s4qDg2sFWz"
      },
      "execution_count": null,
      "outputs": []
    },
    {
      "cell_type": "markdown",
      "source": [
        "What was the error ?\n",
        "Answer : variable misspelt on second line"
      ],
      "metadata": {
        "id": "C0NP6Jd7tpZp"
      }
    },
    {
      "cell_type": "code",
      "source": [
        "def greet():\n",
        "  name = input(\"Enter your name: \")\n",
        "  print(\"Hello, \" + name)"
      ],
      "metadata": {
        "id": "iQxoGQ1SsUEA"
      },
      "execution_count": null,
      "outputs": []
    },
    {
      "cell_type": "markdown",
      "source": [
        "What was the error ?\n",
        "Answer : second and third line needed to be indented"
      ],
      "metadata": {
        "id": "Ap3NxpT5trax"
      }
    },
    {
      "cell_type": "code",
      "source": [
        "age = int(input(\"Enter your age: \"))\n",
        "print(\"Next year, you will be \" + (age + 1))"
      ],
      "metadata": {
        "id": "D0fxS0w4sfz2"
      },
      "execution_count": null,
      "outputs": []
    },
    {
      "cell_type": "markdown",
      "source": [
        "What was the error ?\n",
        "Answer : age needs to be declared as an integer"
      ],
      "metadata": {
        "id": "B7dY9waHtspn"
      }
    },
    {
      "cell_type": "code",
      "source": [
        "def add_numbers(a,b):\n",
        "    return a + b\n",
        "print(add_numbers(5, 3))"
      ],
      "metadata": {
        "id": "cr4Di-Moshxa",
        "colab": {
          "base_uri": "https://localhost:8080/"
        },
        "outputId": "9027f521-2ae3-4634-8f5d-34f9c55d3193"
      },
      "execution_count": 2,
      "outputs": [
        {
          "output_type": "stream",
          "name": "stdout",
          "text": [
            "8\n"
          ]
        }
      ]
    },
    {
      "cell_type": "markdown",
      "source": [
        "What was the error ?\n",
        "Answer : variable misspelt on third line, apostrophies need removing and \"A,B\" needs to be lowercase"
      ],
      "metadata": {
        "id": "Voaq60z9ttJW"
      }
    },
    {
      "cell_type": "code",
      "source": [
        "def multiply(x, y):\n",
        "return X * Y\n",
        "\n",
        "print(multiply(4, 2))"
      ],
      "metadata": {
        "id": "v_sucHpespLK"
      },
      "execution_count": null,
      "outputs": []
    },
    {
      "cell_type": "markdown",
      "source": [
        "What was the error ?\n",
        "Answer : 'x' cannot be used to multiply - '*' whereas can"
      ],
      "metadata": {
        "id": "s-UtRPw3tt_j"
      }
    },
    {
      "cell_type": "code",
      "source": [
        "numbers = [1, 2, 3, 4, 5]\n",
        "for i in numbers:\n",
        "    print(i)"
      ],
      "metadata": {
        "id": "m6f6EW7Ts3zQ"
      },
      "execution_count": null,
      "outputs": []
    },
    {
      "cell_type": "code",
      "source": [],
      "metadata": {
        "id": "U4O8freWz8uz"
      },
      "execution_count": null,
      "outputs": []
    },
    {
      "cell_type": "markdown",
      "source": [
        "What was the error ?\n",
        "Answer : missing colon on line 2, and brackets needed on line 3"
      ],
      "metadata": {
        "id": "tRA2Cwpbtufn"
      }
    },
    {
      "cell_type": "code",
      "source": [
        "student = {\"name\": \"Alex\", \"age\": 21}\n",
        "print(student1[\"name\"])"
      ],
      "metadata": {
        "id": "x84ylEg4s-GH"
      },
      "execution_count": null,
      "outputs": []
    },
    {
      "cell_type": "markdown",
      "source": [
        "What was the error ?\n",
        "Answer : 'print' misspelt and speech marks needed around 'name' both on line 2"
      ],
      "metadata": {
        "id": "K0Ofjlvbtu6s"
      }
    },
    {
      "cell_type": "code",
      "source": [
        "def check_even(n):\n",
        "    if n % 2 == 0:\n",
        "        print(\"Even\")\n",
        "    else:\n",
        "        print(\"Odd\")\n",
        "\n",
        "check_even(4)\n"
      ],
      "metadata": {
        "id": "XmSSi4yhtH5M"
      },
      "execution_count": null,
      "outputs": []
    },
    {
      "cell_type": "markdown",
      "source": [
        "What was the error ?\n",
        "Answer : requires double equal sign on line 2"
      ],
      "metadata": {
        "id": "o6oubHCztvi-"
      }
    }
  ]
}