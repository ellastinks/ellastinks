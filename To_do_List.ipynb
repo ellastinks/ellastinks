{
  "nbformat": 4,
  "nbformat_minor": 0,
  "metadata": {
    "colab": {
      "provenance": [],
      "authorship_tag": "ABX9TyMKzfaT8hWvPHxb8dTRmD44",
      "include_colab_link": true
    },
    "kernelspec": {
      "name": "python3",
      "display_name": "Python 3"
    },
    "language_info": {
      "name": "python"
    }
  },
  "cells": [
    {
      "cell_type": "markdown",
      "metadata": {
        "id": "view-in-github",
        "colab_type": "text"
      },
      "source": [
        "<a href=\"https://colab.research.google.com/github/ellastinks/ellastinks/blob/main/To_do_List.ipynb\" target=\"_parent\"><img src=\"https://colab.research.google.com/assets/colab-badge.svg\" alt=\"Open In Colab\"/></a>"
      ]
    },
    {
      "cell_type": "code",
      "execution_count": null,
      "metadata": {
        "colab": {
          "base_uri": "https://localhost:8080/"
        },
        "id": "T4CL0TOfSCe6",
        "outputId": "b424bf47-3cc9-4951-cb99-c8ed8edb6a3e"
      },
      "outputs": [
        {
          "output_type": "stream",
          "name": "stdout",
          "text": [
            "['To Do List Menu:', '1. View Tasks', '2. Add Tasks', '3. Remove Tasks', '4. Exit']\n"
          ]
        }
      ],
      "source": [
        "menu = [\"To Do List Menu:\", \"1. View Tasks\", \"2. Add Tasks\", \"3. Remove Tasks\", \"4. Exit\"]\n",
        "tasks = []\n",
        "\n",
        "\n",
        "def to_do_list():\n",
        "  print(menu)\n",
        "  choice = input(\"Please choose an option: \")\n",
        "  if choice == \"1\":\n",
        "    view_tasks()\n",
        "  elif choice == \"2\":\n",
        "    add_tasks()\n",
        "  elif choice == \"3\":\n",
        "    remove_tasks()\n",
        "  else:\n",
        "    end()\n",
        "\n",
        "def view_tasks():\n",
        "  if tasks == []:\n",
        "    print(\"You have no tasks!\")\n",
        "  else:\n",
        "    print(\"Your tasks are: \", tasks)\n",
        "  to_do_list()\n",
        "\n",
        "def add_tasks():\n",
        "  add_new = input(\"Please enter a task: \")\n",
        "  print(\"Task added!\")\n",
        "  new_tasks = tasks + [add_new]\n",
        "  tasks.append(new_tasks)\n",
        "  print(tasks)\n",
        "  to_do_list()\n",
        "\n",
        "def remove_tasks():\n",
        "  print(tasks)\n",
        "  remove = input(\"Please choose the task you would like to remove\")\n",
        "  tasks.remove(remove)\n",
        "  print(\"Task removed: \", remove)\n",
        "  to_do_list()\n",
        "\n",
        "def end():\n",
        "  print(\"Have a productive day!\")\n",
        "\n",
        "\n",
        "to_do_list()"
      ]
    },
    {
      "cell_type": "code",
      "source": [],
      "metadata": {
        "id": "VEfP9Vk7SYMU"
      },
      "execution_count": null,
      "outputs": []
    }
  ]
}