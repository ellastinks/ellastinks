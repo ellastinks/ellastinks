{
  "nbformat": 4,
  "nbformat_minor": 0,
  "metadata": {
    "colab": {
      "provenance": [],
      "include_colab_link": true
    },
    "kernelspec": {
      "name": "python3",
      "display_name": "Python 3"
    },
    "language_info": {
      "name": "python"
    }
  },
  "cells": [
    {
      "cell_type": "markdown",
      "metadata": {
        "id": "view-in-github",
        "colab_type": "text"
      },
      "source": [
        "<a href=\"https://colab.research.google.com/github/ellastinks/ellastinks/blob/main/Math_Ex1.ipynb\" target=\"_parent\"><img src=\"https://colab.research.google.com/assets/colab-badge.svg\" alt=\"Open In Colab\"/></a>"
      ]
    },
    {
      "cell_type": "markdown",
      "source": [
        "# MATH PYTHON EXERCISE 1"
      ],
      "metadata": {
        "id": "DyT267uWSfzo"
      }
    },
    {
      "cell_type": "markdown",
      "source": [
        "1. Import math correctly"
      ],
      "metadata": {
        "id": "05uxMSoJSkZ4"
      }
    },
    {
      "cell_type": "code",
      "execution_count": null,
      "metadata": {
        "id": "mR-BCYnKScOn"
      },
      "outputs": [],
      "source": [
        "import math"
      ]
    },
    {
      "cell_type": "markdown",
      "source": [
        "2. Convert 90 degrees to radians and print it"
      ],
      "metadata": {
        "id": "GkvsHhJYS3V5"
      }
    },
    {
      "cell_type": "code",
      "source": [
        "import math\n",
        "angle = 90\n",
        "radians = math.radians(angle)\n",
        "print(radians)"
      ],
      "metadata": {
        "id": "VbxKmhXBS7fW",
        "outputId": "18697c55-ed9b-4e0d-972f-e86d1c7029e7",
        "colab": {
          "base_uri": "https://localhost:8080/"
        }
      },
      "execution_count": 11,
      "outputs": [
        {
          "output_type": "stream",
          "name": "stdout",
          "text": [
            "1.5707963267948966\n"
          ]
        }
      ]
    },
    {
      "cell_type": "markdown",
      "source": [
        "3. Calculate sin 70, cos 70, tan 70"
      ],
      "metadata": {
        "id": "E_K68TvTS73G"
      }
    },
    {
      "cell_type": "code",
      "source": [
        "angle = 90\n",
        "radians = math.radians(angle)\n",
        "print(radians)\n",
        "print(\"Sine of 90 degrees:\", math.sin(radians))\n",
        "print(\"Cosine of 90 degrees:\", math.cos(radians))\n",
        "print(\"Tangent of 90 degrees:\", math.tan(radians))"
      ],
      "metadata": {
        "id": "RU02BKOlTC87",
        "outputId": "c6ef22ac-7bba-48dd-f6b7-ca10647b0c4d",
        "colab": {
          "base_uri": "https://localhost:8080/"
        }
      },
      "execution_count": 12,
      "outputs": [
        {
          "output_type": "stream",
          "name": "stdout",
          "text": [
            "1.5707963267948966\n",
            "Sine of 90 degrees: 1.0\n",
            "Cosine of 90 degrees: 6.123233995736766e-17\n",
            "Tangent of 90 degrees: 1.633123935319537e+16\n"
          ]
        }
      ]
    },
    {
      "cell_type": "markdown",
      "source": [
        "4. Calculate sin inverse (0.9396926207859083) cos inverse (0.342020143325668) and tan inverse (2.747477419454621)"
      ],
      "metadata": {
        "id": "ZschTX83TD2T"
      }
    },
    {
      "cell_type": "code",
      "source": [
        "import math\n",
        "print(\"Arcsin of 0.5:\", math.degrees(math.asin(0.9396926207859083)))\n",
        "print(\"Arcos of 0.5:\", math.degrees(math.asin(0.342020143325668)))\n",
        "print(\"Artan of 0.5:\", math.degrees(math.atan(2.747477419454621)))"
      ],
      "metadata": {
        "id": "fNm4gUBGTLb5",
        "outputId": "54a29458-866b-4da7-85a0-d20e7009cb64",
        "colab": {
          "base_uri": "https://localhost:8080/"
        }
      },
      "execution_count": 13,
      "outputs": [
        {
          "output_type": "stream",
          "name": "stdout",
          "text": [
            "Arcsin of 0.5: 70.0\n",
            "Arcos of 0.5: 19.999999999999954\n",
            "Artan of 0.5: 70.0\n"
          ]
        }
      ]
    },
    {
      "cell_type": "markdown",
      "source": [
        "5. Calculat the area of a circle with radius 7"
      ],
      "metadata": {
        "id": "4GI_0CvFTLyq"
      }
    },
    {
      "cell_type": "code",
      "source": [
        "import math\n",
        "radius = 7\n",
        "print(\"The radius is:\", radius)\n",
        "radius_squared = radius**2\n",
        "area = math.pi*radius_squared\n",
        "print(\"The area of a circle with radius 7 is:\", area)"
      ],
      "metadata": {
        "id": "DJO4QSf3TQAI",
        "outputId": "152e725c-5874-4ec3-a26a-0f804e9c0691",
        "colab": {
          "base_uri": "https://localhost:8080/"
        }
      },
      "execution_count": 14,
      "outputs": [
        {
          "output_type": "stream",
          "name": "stdout",
          "text": [
            "The radius is: 7\n",
            "The area of a circle with radius 7 is: 153.93804002589985\n"
          ]
        }
      ]
    },
    {
      "cell_type": "markdown",
      "source": [
        "6.Calculate the circumference of a circle with radius 7"
      ],
      "metadata": {
        "id": "hijI42uJTQQ6"
      }
    },
    {
      "cell_type": "code",
      "source": [
        "import math\n",
        "radius = 7\n",
        "print(\"The radius is:\", radius)\n",
        "diameter = radius*2\n",
        "print(\"The diameter is:\", diameter)\n",
        "circumference = math.pi*diameter\n",
        "print(\"The circumference of a circle with radius 7 is:\", circumference)"
      ],
      "metadata": {
        "id": "bl2Aw54MTU9_",
        "outputId": "2d8e48b6-4bac-47c9-e52f-96fe8adcb80a",
        "colab": {
          "base_uri": "https://localhost:8080/"
        }
      },
      "execution_count": 15,
      "outputs": [
        {
          "output_type": "stream",
          "name": "stdout",
          "text": [
            "The radius is: 7\n",
            "The diameter is: 14\n",
            "The circumference of a circle with radius 7 is: 43.982297150257104\n"
          ]
        }
      ]
    },
    {
      "cell_type": "markdown",
      "source": [
        "7. Find the cube root of 343 using the math.pow() function"
      ],
      "metadata": {
        "id": "G1ceCYkGTVeb"
      }
    },
    {
      "cell_type": "code",
      "source": [
        "import math"
      ],
      "metadata": {
        "id": "PaOHKiQuTfub"
      },
      "execution_count": null,
      "outputs": []
    },
    {
      "cell_type": "markdown",
      "source": [
        "8. Calculate the floor and ceil of 7.83."
      ],
      "metadata": {
        "id": "MnWyQq3_TgMk"
      }
    },
    {
      "cell_type": "code",
      "source": [],
      "metadata": {
        "id": "_AAHRdk3Toea"
      },
      "execution_count": null,
      "outputs": []
    },
    {
      "cell_type": "markdown",
      "source": [
        "9. Verify identity of (sin45)^2 + (cos45)^2 is approximately equal to 1"
      ],
      "metadata": {
        "id": "t3-Uyg91To7x"
      }
    },
    {
      "cell_type": "code",
      "source": [],
      "metadata": {
        "id": "TTB2YibnUJU-"
      },
      "execution_count": null,
      "outputs": []
    },
    {
      "cell_type": "markdown",
      "source": [
        "10. An object is dropped from a height of 78.4 meters.\n",
        "How long will it take to hit the ground?\n",
        "(Use the formula: t = √2h/g , g = 9.8"
      ],
      "metadata": {
        "id": "0_HbNRXlUJl8"
      }
    },
    {
      "cell_type": "code",
      "source": [],
      "metadata": {
        "id": "zaVO6Fo1UjKl"
      },
      "execution_count": null,
      "outputs": []
    },
    {
      "cell_type": "markdown",
      "source": [
        "11. Area of an Equilateral Triangle\n",
        "Given the side length of an equilateral triangle is 6 units, calculate its area.\n",
        "Use the formula: Area = √(3/4) * (side)^2"
      ],
      "metadata": {
        "id": "lFK6CYF_UjhE"
      }
    },
    {
      "cell_type": "code",
      "source": [],
      "metadata": {
        "id": "GSQuQ7UBUvuL"
      },
      "execution_count": null,
      "outputs": []
    }
  ]
}