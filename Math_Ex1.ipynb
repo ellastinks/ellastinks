{
  "nbformat": 4,
  "nbformat_minor": 0,
  "metadata": {
    "colab": {
      "provenance": [],
      "include_colab_link": true
    },
    "kernelspec": {
      "name": "python3",
      "display_name": "Python 3"
    },
    "language_info": {
      "name": "python"
    }
  },
  "cells": [
    {
      "cell_type": "markdown",
      "metadata": {
        "id": "view-in-github",
        "colab_type": "text"
      },
      "source": [
        "<a href=\"https://colab.research.google.com/github/ellastinks/ellastinks/blob/main/Math_Ex1.ipynb\" target=\"_parent\"><img src=\"https://colab.research.google.com/assets/colab-badge.svg\" alt=\"Open In Colab\"/></a>"
      ]
    },
    {
      "cell_type": "markdown",
      "source": [
        "# MATH PYTHON EXERCISE 1"
      ],
      "metadata": {
        "id": "DyT267uWSfzo"
      }
    },
    {
      "cell_type": "markdown",
      "source": [
        "1. Import math correctly"
      ],
      "metadata": {
        "id": "05uxMSoJSkZ4"
      }
    },
    {
      "cell_type": "code",
      "execution_count": null,
      "metadata": {
        "id": "mR-BCYnKScOn"
      },
      "outputs": [],
      "source": [
        "import math"
      ]
    },
    {
      "cell_type": "markdown",
      "source": [
        "2. Convert 90 degrees to radians and print it"
      ],
      "metadata": {
        "id": "GkvsHhJYS3V5"
      }
    },
    {
      "cell_type": "code",
      "source": [
        "import math\n",
        "angle = 90\n",
        "radians = math.radians(angle)\n",
        "print(radians)"
      ],
      "metadata": {
        "id": "VbxKmhXBS7fW",
        "colab": {
          "base_uri": "https://localhost:8080/"
        },
        "outputId": "18697c55-ed9b-4e0d-972f-e86d1c7029e7"
      },
      "execution_count": 11,
      "outputs": [
        {
          "output_type": "stream",
          "name": "stdout",
          "text": [
            "1.5707963267948966\n"
          ]
        }
      ]
    },
    {
      "cell_type": "markdown",
      "source": [
        "3. Calculate sin 70, cos 70, tan 70"
      ],
      "metadata": {
        "id": "E_K68TvTS73G"
      }
    },
    {
      "cell_type": "code",
      "source": [
        "angle = 70\n",
        "radians = math.radians(angle)\n",
        "print(radians)\n",
        "print(\"Sine of 70 degrees:\", math.sin(radians))\n",
        "print(\"Cosine of 70 degrees:\", math.cos(radians))\n",
        "print(\"Tangent of 70 degrees:\", math.tan(radians))"
      ],
      "metadata": {
        "id": "RU02BKOlTC87",
        "colab": {
          "base_uri": "https://localhost:8080/"
        },
        "outputId": "7ce32c53-019d-4043-e0f3-3eb6543f9a86"
      },
      "execution_count": 23,
      "outputs": [
        {
          "output_type": "stream",
          "name": "stdout",
          "text": [
            "1.2217304763960306\n",
            "Sine of 70 degrees: 0.9396926207859083\n",
            "Cosine of 70 degrees: 0.3420201433256688\n",
            "Tangent of 70 degrees: 2.7474774194546216\n"
          ]
        }
      ]
    },
    {
      "cell_type": "markdown",
      "source": [
        "4. Calculate sin inverse (0.9396926207859083) cos inverse (0.342020143325668) and tan inverse (2.747477419454621)"
      ],
      "metadata": {
        "id": "ZschTX83TD2T"
      }
    },
    {
      "cell_type": "code",
      "source": [
        "import math\n",
        "print(\"Arcsin of 0.5:\", math.degrees(math.asin(0.9396926207859083)))\n",
        "print(\"Arcos of 0.5:\", math.degrees(math.acos(0.342020143325668)))\n",
        "print(\"Artan of 0.5:\", math.degrees(math.atan(2.747477419454621)))"
      ],
      "metadata": {
        "id": "fNm4gUBGTLb5",
        "colab": {
          "base_uri": "https://localhost:8080/"
        },
        "outputId": "6e2f4fd6-1dd0-48ad-da80-90d508b987c0"
      },
      "execution_count": 24,
      "outputs": [
        {
          "output_type": "stream",
          "name": "stdout",
          "text": [
            "Arcsin of 0.5: 70.0\n",
            "Arcos of 0.5: 70.00000000000004\n",
            "Artan of 0.5: 70.0\n"
          ]
        }
      ]
    },
    {
      "cell_type": "markdown",
      "source": [
        "5. Calculat the area of a circle with radius 7"
      ],
      "metadata": {
        "id": "4GI_0CvFTLyq"
      }
    },
    {
      "cell_type": "code",
      "source": [
        "import math\n",
        "radius = 7\n",
        "print(\"The radius is:\", radius)\n",
        "radius_squared = radius**2\n",
        "area = math.pi*radius_squared\n",
        "print(\"The area of a circle with radius 7 is:\", area)"
      ],
      "metadata": {
        "id": "DJO4QSf3TQAI",
        "colab": {
          "base_uri": "https://localhost:8080/"
        },
        "outputId": "152e725c-5874-4ec3-a26a-0f804e9c0691"
      },
      "execution_count": 14,
      "outputs": [
        {
          "output_type": "stream",
          "name": "stdout",
          "text": [
            "The radius is: 7\n",
            "The area of a circle with radius 7 is: 153.93804002589985\n"
          ]
        }
      ]
    },
    {
      "cell_type": "markdown",
      "source": [
        "6.Calculate the circumference of a circle with radius 7"
      ],
      "metadata": {
        "id": "hijI42uJTQQ6"
      }
    },
    {
      "cell_type": "code",
      "source": [
        "import math\n",
        "radius = 7\n",
        "print(\"The radius is:\", radius)\n",
        "diameter = radius*2\n",
        "print(\"The diameter is:\", diameter)\n",
        "circumference = math.pi*diameter\n",
        "print(\"The circumference of a circle with radius 7 is:\", circumference)"
      ],
      "metadata": {
        "id": "bl2Aw54MTU9_",
        "colab": {
          "base_uri": "https://localhost:8080/"
        },
        "outputId": "2d8e48b6-4bac-47c9-e52f-96fe8adcb80a"
      },
      "execution_count": 15,
      "outputs": [
        {
          "output_type": "stream",
          "name": "stdout",
          "text": [
            "The radius is: 7\n",
            "The diameter is: 14\n",
            "The circumference of a circle with radius 7 is: 43.982297150257104\n"
          ]
        }
      ]
    },
    {
      "cell_type": "markdown",
      "source": [
        "7. Find the cube root of 343 using the math.pow() function"
      ],
      "metadata": {
        "id": "G1ceCYkGTVeb"
      }
    },
    {
      "cell_type": "code",
      "source": [
        "import math\n",
        "number = 343\n",
        "print(\"The number is:\", number)\n",
        "print(\"The cube root of 343 is:\", math.pow(number, 1/3))"
      ],
      "metadata": {
        "id": "PaOHKiQuTfub",
        "colab": {
          "base_uri": "https://localhost:8080/"
        },
        "outputId": "2a9d4669-a404-4461-be9c-6788a6000d7b"
      },
      "execution_count": 26,
      "outputs": [
        {
          "output_type": "stream",
          "name": "stdout",
          "text": [
            "The number is: 343\n",
            "The cube root of 343 is: 6.999999999999999\n"
          ]
        }
      ]
    },
    {
      "cell_type": "markdown",
      "source": [
        "8. Calculate the floor and ceil of 7.83."
      ],
      "metadata": {
        "id": "MnWyQq3_TgMk"
      }
    },
    {
      "cell_type": "code",
      "source": [
        "import math\n",
        "print(\"Floor:\",(math.floor(7.83)))\n",
        "print(\"Ceil:\", (math.ceil(7.83)))"
      ],
      "metadata": {
        "id": "_AAHRdk3Toea",
        "colab": {
          "base_uri": "https://localhost:8080/"
        },
        "outputId": "a20ce0e5-94ba-4411-abd6-4701b12851da"
      },
      "execution_count": 19,
      "outputs": [
        {
          "output_type": "stream",
          "name": "stdout",
          "text": [
            "Floor: 7\n",
            "Ceil: 8\n"
          ]
        }
      ]
    },
    {
      "cell_type": "markdown",
      "source": [
        "9. Verify identity of (sin45)^2 + (cos45)^2 is approximately equal to 1"
      ],
      "metadata": {
        "id": "t3-Uyg91To7x"
      }
    },
    {
      "cell_type": "code",
      "source": [
        "import math\n",
        "angle = 45\n",
        "radians = math.radians(angle)\n",
        "Sine =(math.sin(radians)**2)\n",
        "Cosine = (math.cos(radians)**2)\n",
        "print(\"Sine of 45 degrees:\", Sine)\n",
        "print(\"Cosine of 45 degrees:\", Cosine)\n",
        "verify = Sine + Cosine\n",
        "print(verify)\n",
        "\n"
      ],
      "metadata": {
        "id": "TTB2YibnUJU-",
        "colab": {
          "base_uri": "https://localhost:8080/"
        },
        "outputId": "b11388e8-ee86-44d1-d768-caf286b2a736"
      },
      "execution_count": 34,
      "outputs": [
        {
          "output_type": "stream",
          "name": "stdout",
          "text": [
            "Sine of 45 degrees: 0.4999999999999999\n",
            "Cosine of 45 degrees: 0.5000000000000001\n",
            "1.0\n"
          ]
        }
      ]
    },
    {
      "cell_type": "markdown",
      "source": [
        "10. An object is dropped from a height of 78.4 meters.\n",
        "How long will it take to hit the ground?\n",
        "(Use the formula: t = √2h/g , g = 9.8"
      ],
      "metadata": {
        "id": "0_HbNRXlUJl8"
      }
    },
    {
      "cell_type": "code",
      "source": [
        "import math\n",
        "h = 78.4\n",
        "g = 9.8\n",
        "t = (math.sqrt(h*2))/g\n",
        "print(t)"
      ],
      "metadata": {
        "id": "zaVO6Fo1UjKl",
        "colab": {
          "base_uri": "https://localhost:8080/"
        },
        "outputId": "4bf37d6e-edf0-40da-bb28-05d75485540c"
      },
      "execution_count": 38,
      "outputs": [
        {
          "output_type": "stream",
          "name": "stdout",
          "text": [
            "1.2777531299998797\n"
          ]
        }
      ]
    },
    {
      "cell_type": "markdown",
      "source": [
        "11. Area of an Equilateral Triangle\n",
        "Given the side length of an equilateral triangle is 6 units, calculate its area.\n",
        "Use the formula: Area = √(3/4) * (side)^2"
      ],
      "metadata": {
        "id": "lFK6CYF_UjhE"
      }
    },
    {
      "cell_type": "code",
      "source": [
        "import math\n",
        "side = 6\n",
        "area = math.sqrt(3/4)*(side**2)\n",
        "print(\"The area is:\", area)\n"
      ],
      "metadata": {
        "id": "GSQuQ7UBUvuL",
        "colab": {
          "base_uri": "https://localhost:8080/"
        },
        "outputId": "96ca9ddd-391e-4891-a893-6db5109b0cda"
      },
      "execution_count": 39,
      "outputs": [
        {
          "output_type": "stream",
          "name": "stdout",
          "text": [
            "The area is: 31.17691453623979\n"
          ]
        }
      ]
    }
  ]
}